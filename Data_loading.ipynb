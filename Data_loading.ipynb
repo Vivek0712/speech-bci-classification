{
 "cells": [
  {
   "cell_type": "markdown",
   "metadata": {
    "id": "n7U7t8vLzdmQ"
   },
   "source": [
    "<a   href=\"https://colab.research.google.com/github//N-Nieto/Inner_Speech_Dataset/blob/master/Database_load_Tutorial.ipynb\" target=\"_parent\"><img src=\"https://colab.research.google.com/assets/colab-badge.svg\" alt=\"Open In Colab\"/></a>"
   ]
  },
  {
   "cell_type": "markdown",
   "metadata": {
    "id": "ZeJv3XgwUC4R"
   },
   "source": [
    "## Set up - Download and import required libraries"
   ]
  },
  {
   "cell_type": "code",
   "execution_count": null,
   "metadata": {
    "cellView": "form",
    "colab": {
     "base_uri": "https://localhost:8080/"
    },
    "id": "en9HsrNVTtXg",
    "outputId": "9b20e1be-3a8e-4de4-8a1c-c385a97f9a8a"
   },
   "outputs": [],
   "source": [
    "!git clone https://github.com/N-Nieto/Inner_Speech_Dataset -q\n",
    "!pip3 install mne -q"
   ]
  },
  {
   "cell_type": "code",
   "execution_count": null,
   "metadata": {},
   "outputs": [],
   "source": [
    "import os \n",
    "import sys\n",
    "\n",
    "sys.path.append(os.getcwd())"
   ]
  },
  {
   "cell_type": "code",
   "execution_count": null,
   "metadata": {
    "cellView": "form",
    "id": "GySLvxiqUJzX"
   },
   "outputs": [],
   "source": [
    "#@title Imports \n",
    "import pickle\n",
    "from tqdm import tqdm\n",
    "import random\n",
    "import warnings\n",
    "import pandas as pd\n",
    "import numpy as np\n",
    "from joblib import Parallel, delayed\n",
    "from sklearn.manifold import TSNE\n",
    "from sklearn.decomposition import PCA\n",
    "from sklearn.preprocessing import StandardScaler, MinMaxScaler\n",
    "from sklearn.model_selection import train_test_split\n",
    "import mne\n",
    "from mne.decoding import CSP\n",
    "\n",
    "from Python_Processing.Data_extractions import  Extract_data_from_subject\n",
    "from Python_Processing.Data_processing import  Select_time_window, Transform_for_classificator, Split_trial_in_time\n",
    "\n",
    "np.random.seed(23)\n",
    "\n",
    "mne.set_log_level(verbose='warning') #to avoid info at terminal\n",
    "warnings.filterwarnings(action = \"ignore\", category = DeprecationWarning ) \n",
    "warnings.filterwarnings(action = \"ignore\", category = FutureWarning ) "
   ]
  },
  {
   "cell_type": "markdown",
   "metadata": {
    "id": "gcXsT133Chus"
   },
   "source": [
    "## Data Loading."
   ]
  },
  {
   "cell_type": "code",
   "execution_count": null,
   "metadata": {
    "id": "m6f5cvPq_aYr"
   },
   "outputs": [],
   "source": [
    "### Hyperparameters\n",
    "\n",
    "# The root dir have to point to the folder that cointains the database\n",
    "root_dir = \"./\"\n",
    "\n",
    "# Data Type\n",
    "datatype = \"EEG\"\n",
    "\n",
    "# Sampling rate\n",
    "fs = 256\n",
    "\n",
    "# Select the useful par of each trial. Time in seconds\n",
    "t_start = 1.5\n",
    "t_end = 3.5\n",
    "\n",
    "# Subjects\n",
    "# SUBJECTS = [i for i in range(1,10)] #all subjects, max=10\n",
    "SUBJECTS = [1] #to add any number of subjects in any order\n",
    "\n",
    "#Classes\n",
    "classes = [\"Up\", \"Down\", \"Right\", \"Left\"]"
   ]
  },
  {
   "cell_type": "code",
   "execution_count": null,
   "metadata": {},
   "outputs": [],
   "source": [
    "#Fetches data pertaining to a subject to any one condition, multiple classes\n",
    "def extract_of_subject(N_S, condition):\n",
    "    Conditions = [[condition],[condition],[condition],[condition]]\n",
    "    Classes = [[class_] for class_ in classes]\n",
    "    X, Y = Extract_data_from_subject(root_dir, N_S, datatype)\n",
    "    X = Select_time_window(X = X, t_start = t_start, t_end = t_end, fs = fs)\n",
    "    X , Y =  Transform_for_classificator(X, Y, Classes, Conditions)\n",
    "    print(f\"Data of subject-{N_S} for condition-{condition} extracted\")\n",
    "    return X, Y"
   ]
  },
  {
   "cell_type": "code",
   "execution_count": null,
   "metadata": {},
   "outputs": [],
   "source": [
    "#Fetches data pertaining to multiple conditions, multiple classes of multiple subjects\n",
    "#Y corresponds to conditions\n",
    "def fetch_cross_cond_data(conditions):\n",
    "    X = []\n",
    "    Y = []\n",
    "\n",
    "    for i, condition in enumerate(conditions):\n",
    "        for N_S in SUBJECTS:\n",
    "            X_S, _ = extract_of_subject(N_S, condition)\n",
    "            X.append(X_S)\n",
    "            Y.extend([i for _ in range(len(X_S))])\n",
    "\n",
    "    X = np.vstack(X)\n",
    "    Y = np.array(Y)\n",
    "    \n",
    "    return X, Y"
   ]
  },
  {
   "cell_type": "code",
   "execution_count": null,
   "metadata": {},
   "outputs": [],
   "source": [
    "conditions = [\"Inner\", \"Pronounced\", \"Visualized\"]\n",
    "\n",
    "X_list = []\n",
    "Y_list = []\n",
    "SUBJECTS = [0]\n",
    "\n",
    "for i in range(1, 11):\n",
    "    SUBJECTS[0] = i\n",
    "    X, Y = fetch_cross_cond_data(conditions)\n",
    "    print(X.shape)\n",
    "    print(Y.shape)\n",
    "    X_list.append(X)\n",
    "    Y_list.append(Y)"
   ]
  },
  {
   "cell_type": "code",
   "execution_count": null,
   "metadata": {},
   "outputs": [],
   "source": [
    "#CSP saving for csp-lda script\n",
    "\n",
    "def extract_data(i):\n",
    "    \n",
    "    print(f\"Subject - {i}\")\n",
    "    \n",
    "    X = X_list[i]\n",
    "    Y = Y_list[i].flatten()\n",
    "    \n",
    "    print(\"X shape: \", X.shape)\n",
    "    print(\"Y shape: \", Y.shape)\n",
    "    \n",
    "    with open(f\"X_{i}.npy\", \"wb\") as f:\n",
    "        np.save(f, X)\n",
    "    \n",
    "    with open(f\"Y_{i}.npy\", \"wb\") as f:\n",
    "        np.save(f, Y)\n",
    "    \n",
    "Parallel(n_jobs=-1, verbose=1)(delayed(extract_data)(i) for i in tqdm(range(10)))"
   ]
  },
  {
   "cell_type": "code",
   "execution_count": null,
   "metadata": {},
   "outputs": [],
   "source": [
    "#Saving cross subject data\n",
    "\n",
    "X = np.vstack(X_list)\n",
    "Y = np.vstack(Y_list).flatten()\n",
    "\n",
    "print(\"X shape: \", X.shape)\n",
    "print(\"Y shape: \", Y.shape)\n",
    "\n",
    "with open(\"X_cross_subject.npy\", \"wb\") as f:\n",
    "    np.save(f, X)\n",
    "\n",
    "with open(f\"Y_cross_subject.npy\", \"wb\") as f:\n",
    "    np.save(f, Y)"
   ]
  }
 ],
 "metadata": {
  "colab": {
   "collapsed_sections": [],
   "name": "Database_load_Tutorial.ipynb",
   "provenance": []
  },
  "kernelspec": {
   "display_name": "Python 3 (ipykernel)",
   "language": "python",
   "name": "python3"
  },
  "language_info": {
   "codemirror_mode": {
    "name": "ipython",
    "version": 3
   },
   "file_extension": ".py",
   "mimetype": "text/x-python",
   "name": "python",
   "nbconvert_exporter": "python",
   "pygments_lexer": "ipython3",
   "version": "3.8.5"
  }
 },
 "nbformat": 4,
 "nbformat_minor": 1
}
